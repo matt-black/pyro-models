{
 "cells": [
  {
   "cell_type": "code",
   "execution_count": null,
   "id": "05aa543e-8130-4196-88c7-6564dea27234",
   "metadata": {},
   "outputs": [],
   "source": [
    "import numpy\n",
    "import torch\n",
    "import pyro\n",
    "import pyro.distributions as dist\n",
    "\n",
    "import matplotlib\n",
    "import matplotlib.pyplot as plt\n",
    "\n",
    "from ppca import BayesianPCA\n",
    "\n",
    "dev = torch.device('cuda') if torch.cuda.is_available() else torch.device('cpu')"
   ]
  },
  {
   "cell_type": "code",
   "execution_count": null,
   "id": "60482850-4e36-4210-a3cf-13a95d4fd0dc",
   "metadata": {},
   "outputs": [],
   "source": [
    "N_dim = 10\n",
    "mvn = dist.MultivariateNormal(\n",
    "    torch.zeros((N_dim)), torch.eye(N_dim)*torch.tensor([10,10]+[1,]*(N_dim-2))\n",
    ")\n",
    "samp = mvn.sample([1000])\n",
    "# \n",
    "samp = samp -  torch.mean(samp, dim=0, keepdim=True)\n",
    "\n",
    "\n",
    "def hinton(matrix, max_weight=None, ax=None):\n",
    "    \"\"\"Draw Hinton diagram for visualizing a weight matrix.\"\"\"\n",
    "    ax = ax if ax is not None else plt.gca()\n",
    "\n",
    "    if not max_weight:\n",
    "        max_weight = 2 ** numpy.ceil(numpy.log2(numpy.abs(matrix).max()))\n",
    "\n",
    "    ax.patch.set_facecolor('gray')\n",
    "    ax.set_aspect('equal', 'box')\n",
    "    ax.xaxis.set_major_locator(plt.NullLocator())\n",
    "    ax.yaxis.set_major_locator(plt.NullLocator())\n",
    "\n",
    "    for (x, y), w in numpy.ndenumerate(matrix):\n",
    "        color = 'white' if w > 0 else 'black'\n",
    "        size = numpy.sqrt(abs(w) / max_weight)\n",
    "        rect = plt.Rectangle([x - size / 2, y - size / 2], size, size,\n",
    "                             facecolor=color, edgecolor=color)\n",
    "        ax.add_patch(rect)\n",
    "\n",
    "    ax.autoscale_view()\n",
    "    ax.invert_yaxis()"
   ]
  },
  {
   "cell_type": "code",
   "execution_count": null,
   "id": "43f90ae3-a95c-4a1c-8cd9-f787c9e7532f",
   "metadata": {},
   "outputs": [],
   "source": [
    "pca = BayesianPCA(N_dim, a=0.033, b=0.033, c=0.033, d=0.033).to(dev)\n",
    "guide, l = pca.fit_map(samp.to(dev), 2000, {'lr' : 0.005})"
   ]
  },
  {
   "cell_type": "code",
   "execution_count": null,
   "id": "ed443773-eccc-4beb-b9d9-13b4279d7ce9",
   "metadata": {},
   "outputs": [],
   "source": [
    "W = guide.median()['W'].cpu().numpy()\n",
    "_, ax = plt.subplots(1, 2)\n",
    "hinton(W.T, ax=ax[1])\n",
    "ax[0].plot(l)\n",
    "ax[0].set_yscale('log')"
   ]
  },
  {
   "cell_type": "code",
   "execution_count": null,
   "id": "5854c879-12c0-4414-bf75-1148bbd3540b",
   "metadata": {},
   "outputs": [],
   "source": []
  }
 ],
 "metadata": {
  "kernelspec": {
   "display_name": "Python 3 (ipykernel)",
   "language": "python",
   "name": "python3"
  },
  "language_info": {
   "codemirror_mode": {
    "name": "ipython",
    "version": 3
   },
   "file_extension": ".py",
   "mimetype": "text/x-python",
   "name": "python",
   "nbconvert_exporter": "python",
   "pygments_lexer": "ipython3",
   "version": "3.9.13"
  }
 },
 "nbformat": 4,
 "nbformat_minor": 5
}
