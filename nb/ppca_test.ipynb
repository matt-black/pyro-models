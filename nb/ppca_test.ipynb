{
 "cells": [
  {
   "cell_type": "code",
   "execution_count": null,
   "id": "02afee9c-f50b-4c76-85b1-6b24349b157e",
   "metadata": {},
   "outputs": [],
   "source": [
    "import os\n",
    "\n",
    "import numpy\n",
    "import torch\n",
    "import pyro\n",
    "import pyro.distributions as dist\n",
    "\n",
    "import matplotlib\n",
    "import matplotlib.pyplot as plt\n",
    "%matplotlib widget\n",
    "\n",
    "from ppca.vanilla import *\n",
    "\n",
    "dev = torch.device('cuda') if torch.cuda.is_available() else torch.device('cpu')"
   ]
  },
  {
   "cell_type": "code",
   "execution_count": null,
   "id": "b5aab525-fce9-4a57-a962-2cfce62b767f",
   "metadata": {},
   "outputs": [],
   "source": [
    "def hinton(matrix, max_weight=None, ax=None):\n",
    "    \"\"\"Draw Hinton diagram for visualizing a weight matrix.\"\"\"\n",
    "    ax = ax if ax is not None else plt.gca()\n",
    "\n",
    "    if not max_weight:\n",
    "        max_weight = 2 ** numpy.ceil(numpy.log2(numpy.abs(matrix).max()))\n",
    "\n",
    "    ax.patch.set_facecolor('gray')\n",
    "    ax.set_aspect('equal', 'box')\n",
    "    ax.xaxis.set_major_locator(plt.NullLocator())\n",
    "    ax.yaxis.set_major_locator(plt.NullLocator())\n",
    "\n",
    "    for (x, y), w in numpy.ndenumerate(matrix):\n",
    "        color = 'white' if w > 0 else 'black'\n",
    "        size = numpy.sqrt(abs(w) / max_weight)\n",
    "        rect = plt.Rectangle([x - size / 2, y - size / 2], size, size,\n",
    "                             facecolor=color, edgecolor=color)\n",
    "        ax.add_patch(rect)\n",
    "\n",
    "    ax.autoscale_view()\n",
    "    ax.invert_yaxis()"
   ]
  },
  {
   "cell_type": "code",
   "execution_count": null,
   "id": "f44d1dc1-f611-49a3-bd89-7a0b89077b7a",
   "metadata": {},
   "outputs": [],
   "source": [
    "N_dim = 10\n",
    "mvn = dist.MultivariateNormal(\n",
    "    torch.zeros((N_dim)), torch.eye(N_dim)*torch.tensor([10,10]+[1,]*(N_dim-2))\n",
    ")\n",
    "samp = mvn.sample([1000])\n",
    "# \n",
    "samp = samp -  torch.mean(samp, dim=0, keepdim=True)\n",
    "\n",
    "fig = plt.figure()\n",
    "ax = fig.add_subplot(projection='3d')\n",
    "ax.scatter(samp[:,0], samp[:,1], samp[:,2])\n",
    "ax.set_xlim([-10,10])\n",
    "ax.set_ylim([-10,10])"
   ]
  },
  {
   "cell_type": "code",
   "execution_count": null,
   "id": "27614b1c-155a-40c2-8be9-7c6a019f9893",
   "metadata": {},
   "outputs": [],
   "source": [
    "pca = ProbabilisticPCA(N_dim, 3).to(dev)\n",
    "l, guide = pca.fit_map(samp.to(dev), 1000, {'lr' : 0.01}, fix_sigma=False)\n",
    "_, ax = plt.subplots()\n",
    "ax.plot(l)\n",
    "pyro.param(\"loc\").item()"
   ]
  },
  {
   "cell_type": "code",
   "execution_count": null,
   "id": "4c9d12a8-02e3-43b8-bcb1-5093ceeef30b",
   "metadata": {},
   "outputs": [],
   "source": [
    "W = pca.W.weight.detach().cpu().numpy()\n",
    "_, ax = plt.subplots()\n",
    "hinton(W, ax=ax)"
   ]
  },
  {
   "cell_type": "code",
   "execution_count": null,
   "id": "b2d2ec2d-4802-4a0e-af09-9ae8ea5855ac",
   "metadata": {},
   "outputs": [],
   "source": [
    "#comp = torch.pca_lowrank(samp, 1)\n",
    "#comp[2].T[:1]"
   ]
  },
  {
   "cell_type": "markdown",
   "id": "b4c0c11a-d722-464c-b135-279b735690cc",
   "metadata": {},
   "source": [
    "## variational"
   ]
  },
  {
   "cell_type": "code",
   "execution_count": null,
   "id": "cb4779ac-79dc-4466-a5f2-24d26feecc10",
   "metadata": {},
   "outputs": [],
   "source": [
    "from ppca.variational import *"
   ]
  },
  {
   "cell_type": "code",
   "execution_count": null,
   "id": "41e180d2-bbcd-4b99-b88c-9e53fcb64c63",
   "metadata": {},
   "outputs": [],
   "source": [
    "pca = BayesianPCA(N_dim).to(dev)\n",
    "l, guide = pca.fit_map(samp.to(dev), 1, {'lr' : 0.001})"
   ]
  },
  {
   "cell_type": "code",
   "execution_count": null,
   "id": "cbfa6f66-5765-4cc0-9284-1ef3502c45bb",
   "metadata": {},
   "outputs": [],
   "source": [
    "_, ax = plt.subplots()\n",
    "ax.plot(l)\n",
    "#ax.set_yscale('log')\n",
    "num_ws = len([k for k in guide.median().keys() if k[0]=='w'])\n",
    "#W = torch.stack([guide.median()['w_{:d}'.format(i)]\n",
    "#                 for i in range(num_ws)], dim=1)\n",
    "W = guide.median()['W']\n",
    "alphas = guide.median()['alpha']\n",
    "#alphas = [guide.median()['alpha'.format(i)].item() for i in range(num_ws)]\n",
    "print(alphas)"
   ]
  },
  {
   "cell_type": "code",
   "execution_count": null,
   "id": "114c83d3-4e02-40c2-a315-bc3fd8a7349c",
   "metadata": {},
   "outputs": [],
   "source": [
    "beta = 1/guide.median()['tau']\n",
    "print(beta)\n",
    "filt = (torch.abs(W) > beta).cpu().numpy()\n",
    "_, ax = plt.subplots()\n",
    "hinton(W.detach().cpu().numpy().T, ax=ax)"
   ]
  },
  {
   "cell_type": "code",
   "execution_count": null,
   "id": "3ac4df76-4232-443c-8ba0-f82ea629ff41",
   "metadata": {},
   "outputs": [],
   "source": [
    "pyro.render_model(pca.model, model_args=(samp.to(dev),))"
   ]
  },
  {
   "cell_type": "code",
   "execution_count": null,
   "id": "4d1a0a72-04ec-47a9-93bf-0ec60144f42e",
   "metadata": {},
   "outputs": [],
   "source": []
  }
 ],
 "metadata": {
  "kernelspec": {
   "display_name": "Python 3 (ipykernel)",
   "language": "python",
   "name": "python3"
  },
  "language_info": {
   "codemirror_mode": {
    "name": "ipython",
    "version": 3
   },
   "file_extension": ".py",
   "mimetype": "text/x-python",
   "name": "python",
   "nbconvert_exporter": "python",
   "pygments_lexer": "ipython3",
   "version": "3.9.13"
  }
 },
 "nbformat": 4,
 "nbformat_minor": 5
}
